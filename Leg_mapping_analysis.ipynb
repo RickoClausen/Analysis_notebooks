{
 "cells": [
  {
   "cell_type": "markdown",
   "metadata": {},
   "source": [
    "# Leg mapping\n",
    "\n",
    "Within this notebook I will try and analyse, how much of a difference there is on the leg mapping if we dont use the DFU+service strategy. \n",
    "\n",
    "The reason for this is that the forecasting would probabily be alot better if the DFU definition does not include the service code."
   ]
  },
  {
   "cell_type": "code",
   "execution_count": 117,
   "metadata": {},
   "outputs": [],
   "source": [
    "import pandas as pd\n",
    "import matplotlib.pyplot as plt\n",
    "\n",
    "plt.rcParams['figure.figsize'] = [15, 7]"
   ]
  },
  {
   "cell_type": "markdown",
   "metadata": {},
   "source": [
    "I have performed the leg mapping both with and without the service code strategy."
   ]
  },
  {
   "cell_type": "code",
   "execution_count": 2,
   "metadata": {},
   "outputs": [],
   "source": [
    "file_w_service = \"data/leg_mapping_w_service.parquet\"\n",
    "file_wo_service = \"data/leg_mapping_wo_service.parquet\"\n",
    "\n",
    "df_w = pd.read_parquet(file_w_service)\n",
    "df_wo = pd.read_parquet(file_wo_service)"
   ]
  },
  {
   "cell_type": "code",
   "execution_count": 60,
   "metadata": {},
   "outputs": [],
   "source": [
    "df_w = df_w.query(\"leg_mapping_strategy == 'lopfi_dipla_leg_departure_service'\")"
   ]
  },
  {
   "cell_type": "markdown",
   "metadata": {},
   "source": [
    "Now I am only looking at the ODs, where the `lopfi_dipla_leg_departure_service` strategy was used. \n",
    "\n",
    "And then I want to look into the ODs where we have gotten a different mapping compared to just using the `lopfi_dipla` strategy."
   ]
  },
  {
   "cell_type": "code",
   "execution_count": 83,
   "metadata": {},
   "outputs": [],
   "source": [
    "df_w2 = df_w[[\n",
    "    \"dfu_origin_port\", \"dfu_destination_port\", \"filed_service\",\n",
    "    \"etd_week_sunday\", \"dfu_cargo_type\", \"route_cd\", \"horizon_days\", \"ffe_total\",\n",
    "    'leg_departure_service', 'leg_departure_service_direction',\n",
    "       'leg_origin_terminal', 'leg_departure_voyage', 'leg_departure_datetime',\n",
    "       'leg_destination_terminal', 'leg_arrival_voyage',\n",
    "       'leg_arrival_datetime', 'leg_departure_date_proforma_utc'\n",
    "]]\n",
    "df_wo2 = df_wo[[\n",
    "    \"dfu_origin_port\", \"dfu_destination_port\", \"filed_service\",\n",
    "    \"etd_week_sunday\", \"dfu_cargo_type\", \"route_cd\", \"horizon_days\", \"ffe_total\",\n",
    "    'leg_departure_service', 'leg_departure_service_direction',\n",
    "       'leg_origin_terminal', 'leg_departure_voyage', 'leg_departure_datetime',\n",
    "       'leg_destination_terminal', 'leg_arrival_voyage',\n",
    "       'leg_arrival_datetime', 'leg_departure_date_proforma_utc'\n",
    "]]\n",
    "\n",
    "tmp = (\n",
    "    df_w2\n",
    "#     .head(1000)\n",
    "    .merge(df_wo2, how=\"left\", on=[\n",
    "        \"dfu_origin_port\", \"dfu_destination_port\", \"filed_service\",\n",
    "        \"etd_week_sunday\", \"dfu_cargo_type\", \"route_cd\", \"horizon_days\", \"ffe_total\",\n",
    "        'leg_departure_service', 'leg_departure_service_direction',\n",
    "        'leg_origin_terminal', 'leg_departure_voyage', 'leg_departure_datetime',\n",
    "        'leg_destination_terminal', 'leg_arrival_voyage',\n",
    "        'leg_arrival_datetime', 'leg_departure_date_proforma_utc'\n",
    "    ], indicator=True)\n",
    ")"
   ]
  },
  {
   "cell_type": "code",
   "execution_count": 110,
   "metadata": {},
   "outputs": [
    {
     "name": "stdout",
     "output_type": "stream",
     "text": [
      "Number of differently mapped dated ODs: 5075\n",
      "Which correspond to: 2.08% of all dated DFUs\n",
      "\n",
      "Number of differently mapped FFEs: 18154.60\n",
      "Which correspond to: 2.62% of all dated DFUs FFE\n"
     ]
    }
   ],
   "source": [
    "dfu = tmp[[\n",
    "    \"dfu_origin_port\", \"dfu_destination_port\", \"filed_service\",\n",
    "    \"etd_week_sunday\", \"dfu_cargo_type\", \"route_cd\", \"_merge\", \"ffe_total\",\n",
    "]].drop_duplicates()\n",
    "\n",
    "dfus_both = (\n",
    "    dfu.query(\"_merge == 'both'\")\n",
    ")\n",
    "\n",
    "num_dated_dfus_mapped_differently = (\n",
    "    dfu.query(\"_merge == 'left_only'\")\n",
    ")\n",
    "\n",
    "print(f\"Number of differently mapped dated ODs: {num_dated_dfus_mapped_differently.shape[0]}\")\n",
    "print(f\"Which correspond to: {num_dated_dfus_mapped_differently.shape[0] / dfu.shape[0] * 100:0.2f}% of all dated DFUs\")\n",
    "print()\n",
    "print(f\"Number of differently mapped FFEs: {num_dated_dfus_mapped_differently['ffe_total'].sum():0.2f}\")\n",
    "print(f\"Which correspond to: {num_dated_dfus_mapped_differently['ffe_total'].sum() / dfu['ffe_total'].sum() * 100:0.2f}% of all dated DFUs FFE\")"
   ]
  },
  {
   "cell_type": "markdown",
   "metadata": {},
   "source": [
    "So it seems that not of lot of FFE/DFUs are mapped differently by deleting the `lopfi_dipla_leg_departure_service` strategy.\n",
    "\n",
    "Also please note, that mapped differently does not mean wrong necessarily. \n",
    "\n",
    "Not let us look into how big these dfus are, which are mapped differently."
   ]
  },
  {
   "cell_type": "code",
   "execution_count": 118,
   "metadata": {},
   "outputs": [
    {
     "data": {
      "image/png": "[encoded data removed]",
      "text/plain": [
       "<Figure size 1080x504 with 1 Axes>"
      ]
     },
     "metadata": {
      "needs_background": "light"
     },
     "output_type": "display_data"
    }
   ],
   "source": [
    "fig, ax = plt.subplots()\n",
    "\n",
    "num_dated_dfus_mapped_differently[\"ffe_total\"].plot.density(ax=ax, label=\"Mapped different\")\n",
    "dfus_both[\"ffe_total\"].plot.density(ax=ax, label=\"Mapped equal\")\n",
    "\n",
    "plt.xlim(0, 100)\n",
    "plt.xlabel(\"FFE\")\n",
    "plt.legend();"
   ]
  },
  {
   "cell_type": "markdown",
   "metadata": {},
   "source": [
    "Let us also look into the percentiles to give us a better picture."
   ]
  },
  {
   "cell_type": "code",
   "execution_count": 119,
   "metadata": {},
   "outputs": [
    {
     "data": {
      "text/plain": [
       "count    5075.000000\n",
       "mean        3.577260\n",
       "std        21.934536\n",
       "min         0.000000\n",
       "25%         0.000000\n",
       "50%         0.000000\n",
       "75%         0.500000\n",
       "max       314.942589\n",
       "Name: ffe_total, dtype: float64"
      ]
     },
     "execution_count": 119,
     "metadata": {},
     "output_type": "execute_result"
    }
   ],
   "source": [
    "num_dated_dfus_mapped_differently[\"ffe_total\"].describe()"
   ]
  },
  {
   "cell_type": "code",
   "execution_count": 120,
   "metadata": {},
   "outputs": [
    {
     "data": {
      "text/plain": [
       "count    238761.000000\n",
       "mean          2.827792\n",
       "std          14.810352\n",
       "min           0.000000\n",
       "25%           0.000000\n",
       "50%           0.000000\n",
       "75%           1.000000\n",
       "max         746.267900\n",
       "Name: ffe_total, dtype: float64"
      ]
     },
     "execution_count": 120,
     "metadata": {},
     "output_type": "execute_result"
    }
   ],
   "source": [
    "dfus_both[\"ffe_total\"].describe()"
   ]
  },
  {
   "cell_type": "code",
   "execution_count": null,
   "metadata": {},
   "outputs": [],
   "source": []
  }
 ],
 "metadata": {
  "kernelspec": {
   "display_name": "'Python Interactive'",
   "language": "python",
   "name": "ec27db41-e20f-4009-97fb-007a7681c19f"
  },
  "language_info": {
   "codemirror_mode": {
    "name": "ipython",
    "version": 3
   },
   "file_extension": ".py",
   "mimetype": "text/x-python",
   "name": "python",
   "nbconvert_exporter": "python",
   "pygments_lexer": "ipython3",
   "version": "3.7.7"
  }
 },
 "nbformat": 4,
 "nbformat_minor": 2
}
